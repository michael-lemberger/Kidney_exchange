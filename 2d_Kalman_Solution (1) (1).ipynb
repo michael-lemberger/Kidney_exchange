{
 "cells": [
  {
   "cell_type": "code",
   "execution_count": 16,
   "metadata": {},
   "outputs": [],
   "source": [
    "import numpy as np\n",
    "from numpy.linalg import inv"
   ]
  },
  {
   "cell_type": "markdown",
   "metadata": {},
   "source": [
    "# Ex 1"
   ]
  },
  {
   "cell_type": "code",
   "execution_count": 17,
   "metadata": {},
   "outputs": [
    {
     "name": "stdout",
     "output_type": "stream",
     "text": [
      "F matrix is:\n",
      " [[1. 1.]\n",
      " [0. 1.]]\n",
      "\n",
      "P matrix is:\n",
      " [[4.   0.  ]\n",
      " [0.   1.44]]\n",
      "\n",
      "State Vector is:\n",
      " [[8]\n",
      " [5]]\n"
     ]
    }
   ],
   "source": [
    "stdPos = 2.\n",
    "stdVel = 1.2\n",
    "pMatrix = np.matrix([[stdPos**2, 0 ],[0 ,stdVel**2]])\n",
    "\n",
    "deltaT = 1.\n",
    "fMatrix = np.matrix([[1, deltaT ],[ 0 ,1]])\n",
    "\n",
    "initialPos_guess = 8\n",
    "initialVelocity_guess = 5\n",
    "x = np.matrix([[initialPos_guess],[initialVelocity_guess]])\n",
    "\n",
    "print(\"F matrix is:\\n\", fMatrix)\n",
    "print(\"\\nP matrix is:\\n\", pMatrix)\n",
    "print(\"\\nState Vector is:\\n\", x)"
   ]
  },
  {
   "cell_type": "markdown",
   "metadata": {},
   "source": [
    "# Prediction Phase"
   ]
  },
  {
   "cell_type": "code",
   "execution_count": 18,
   "metadata": {},
   "outputs": [
    {
     "name": "stdout",
     "output_type": "stream",
     "text": [
      "After Prediction\n",
      "\n",
      "P matrix is:\n",
      " [[5.44 1.44]\n",
      " [1.44 1.44]]\n",
      "\n",
      "State Vector is:\n",
      " [[13.]\n",
      " [ 5.]]\n"
     ]
    }
   ],
   "source": [
    "Q_matrix = 0\n",
    "I = np.matrix([[1, 0], [0, 1]])\n",
    "x = fMatrix*x\n",
    "pMatrix = fMatrix*pMatrix*fMatrix.T + Q_matrix\n",
    "\n",
    "print(\"After Prediction\")\n",
    "\n",
    "print(\"\\nP matrix is:\\n\", pMatrix)\n",
    "print(\"\\nState Vector is:\\n\", x)"
   ]
  },
  {
   "cell_type": "markdown",
   "metadata": {},
   "source": [
    "# Update Phase"
   ]
  },
  {
   "cell_type": "code",
   "execution_count": 19,
   "metadata": {},
   "outputs": [
    {
     "name": "stdout",
     "output_type": "stream",
     "text": [
      "R matrix is:\n",
      " [[0.25]]\n",
      "H matrix is:\n",
      " [[3.2808399 0.       ]]\n",
      "meassurment (z) is:\n",
      " [[43]]\n"
     ]
    }
   ],
   "source": [
    "factor = 1./0.3048\n",
    "std_sensor = 0.5\n",
    "R_matrix = np.matrix([std_sensor**2])\n",
    "H_matrix = np.matrix([factor, 0])\n",
    "z = np.matrix([43])\n",
    "print(\"R matrix is:\\n\", R_matrix)\n",
    "print(\"H matrix is:\\n\", H_matrix)\n",
    "print(\"meassurment (z) is:\\n\", z)\n",
    "\n"
   ]
  },
  {
   "cell_type": "code",
   "execution_count": 20,
   "metadata": {},
   "outputs": [
    {
     "name": "stdout",
     "output_type": "stream",
     "text": [
      "After Update:\n",
      "\n",
      "P matrix is:\n",
      " [[0.02312702 0.00612186]\n",
      " [0.00612186 1.06044402]]\n",
      "\n",
      "State Vector is:\n",
      " [[13.10594766]\n",
      " [ 5.02804497]]\n",
      "\n",
      "New Kalman Gain (K):\n",
      " [[0.30350421]\n",
      " [0.08033935]]\n"
     ]
    }
   ],
   "source": [
    "S = H_matrix*pMatrix*H_matrix.T +R_matrix\n",
    "S = inv(S)\n",
    "K = pMatrix*H_matrix.T*S\n",
    "\n",
    "x = x + K*(z-H_matrix*x)\n",
    "pMatrix = (I - K*H_matrix)*pMatrix\n",
    "\n",
    "print(\"After Update:\")\n",
    "\n",
    "print(\"\\nP matrix is:\\n\", pMatrix)\n",
    "print(\"\\nState Vector is:\\n\", x)\n",
    "print(\"\\nNew Kalman Gain (K):\\n\",K)"
   ]
  },
  {
   "cell_type": "code",
   "execution_count": 21,
   "metadata": {},
   "outputs": [
    {
     "name": "stdout",
     "output_type": "stream",
     "text": [
      "13.1064\n"
     ]
    }
   ],
   "source": [
    "print(43/factor)"
   ]
  },
  {
   "cell_type": "markdown",
   "metadata": {},
   "source": [
    "# Ex 2 - Prediction\n",
    "\n",
    "\n"
   ]
  },
  {
   "cell_type": "code",
   "execution_count": 6,
   "metadata": {},
   "outputs": [
    {
     "name": "stdout",
     "output_type": "stream",
     "text": [
      "F matrix is:\n",
      " [[1. 1.]\n",
      " [0. 1.]]\n",
      "\n",
      "P matrix is:\n",
      " [[4.   0.  ]\n",
      " [0.   1.44]]\n",
      "\n",
      "State Vector is:\n",
      " [[8]\n",
      " [5]]\n",
      "After Prediction\n",
      "\n",
      "P matrix is:\n",
      " [[5.44 1.44]\n",
      " [1.44 1.44]]\n",
      "\n",
      "State Vector is:\n",
      " [[13.]\n",
      " [ 5.]]\n"
     ]
    }
   ],
   "source": [
    "stdPos = 2.\n",
    "stdVel = 1.2\n",
    "pMatrix = np.matrix([[stdPos**2,0 ],[ 0 ,stdVel**2]])\n",
    "\n",
    "deltaT = 1.\n",
    "fMatrix = np.matrix([[1, deltaT ],[ 0 ,1]])\n",
    "\n",
    "initialPos_guess = 8\n",
    "initialVelocity_guess = 5\n",
    "x = np.matrix([[initialPos_guess],[initialVelocity_guess]])\n",
    "\n",
    "print(\"F matrix is:\\n\", fMatrix)\n",
    "print(\"\\nP matrix is:\\n\", pMatrix)\n",
    "print(\"\\nState Vector is:\\n\", x)\n",
    "\n",
    "Q_matrix = 0\n",
    "I = np.matrix([[1, 0], [0, 1]])\n",
    "x = fMatrix*x\n",
    "pMatrix = fMatrix*pMatrix*fMatrix.T + Q_matrix\n",
    "\n",
    "print(\"After Prediction\")\n",
    "\n",
    "print(\"\\nP matrix is:\\n\", pMatrix)\n",
    "print(\"\\nState Vector is:\\n\", x)"
   ]
  },
  {
   "cell_type": "markdown",
   "metadata": {},
   "source": [
    "# Ex2 - Update"
   ]
  },
  {
   "cell_type": "code",
   "execution_count": 7,
   "metadata": {},
   "outputs": [
    {
     "name": "stdout",
     "output_type": "stream",
     "text": [
      "After Update:\n",
      "\n",
      "P matrix is:\n",
      " [[0.02312482 0.00574134]\n",
      " [0.00574134 0.99452888]]\n",
      "\n",
      "State Vector is:\n",
      " [[13.10557877]\n",
      " [ 4.96414369]]\n"
     ]
    }
   ],
   "source": [
    "factor = 1./0.3048\n",
    "std_pos_sensor = 0.5\n",
    "std_velocity_sensor = 4\n",
    "R_matrix = np.matrix([[std_pos_sensor**2, 0],\n",
    "                      [0, std_velocity_sensor**2]])\n",
    "H_matrix = np.matrix([[factor, 0],[0, 1]])\n",
    "z = np.matrix([[43],[4]])\n",
    "\n",
    "S = H_matrix*pMatrix*H_matrix.T +R_matrix\n",
    "S = inv(S)\n",
    "K = pMatrix*H_matrix.T*S\n",
    "\n",
    "x = x + K*(z-H_matrix*x)\n",
    "pMatrix = (I - K*H_matrix)*pMatrix\n",
    "\n",
    "print(\"After Update:\")\n",
    "\n",
    "print(\"\\nP matrix is:\\n\", pMatrix)\n",
    "print(\"\\nState Vector is:\\n\", x)"
   ]
  },
  {
   "cell_type": "code",
   "execution_count": 10,
   "metadata": {},
   "outputs": [],
   "source": [
    "import matplotlib.pyplot as plt\n",
    "%matplotlib inline"
   ]
  },
  {
   "cell_type": "code",
   "execution_count": 30,
   "metadata": {},
   "outputs": [
    {
     "data": {
      "text/plain": [
       "[<matplotlib.lines.Line2D at 0x22a9dce5ca0>,\n",
       " <matplotlib.lines.Line2D at 0x22a9ed50070>]"
      ]
     },
     "execution_count": 30,
     "metadata": {},
     "output_type": "execute_result"
    },
    {
     "data": {
      "image/png": "[encoded data removed]",
      "text/plain": [
       "<Figure size 432x288 with 1 Axes>"
      ]
     },
     "metadata": {
      "needs_background": "light"
     },
     "output_type": "display_data"
    }
   ],
   "source": [
    "x = np.arange(0,20,0.01)\n",
    "y = 2*np.sin(1.5*x)+ 1.5*np.cos(2*x)  +np.random.normal(0,0.3,len(x))\n",
    "z = 2*np.sin(1.5*x)+ 1.5*np.cos(2*x)\n",
    "plt.plot(x,y,x,z)"
   ]
  },
  {
   "cell_type": "code",
   "execution_count": 34,
   "metadata": {},
   "outputs": [
    {
     "data": {
      "text/plain": [
       "[<matplotlib.lines.Line2D at 0x22aa036c700>,\n",
       " <matplotlib.lines.Line2D at 0x22aa036c7f0>]"
      ]
     },
     "execution_count": 34,
     "metadata": {},
     "output_type": "execute_result"
    },
    {
     "data": {
      "image/png": "[encoded data removed]",
      "text/plain": [
       "<Figure size 432x288 with 1 Axes>"
      ]
     },
     "metadata": {
      "needs_background": "light"
     },
     "output_type": "display_data"
    }
   ],
   "source": [
    "x = np.arange(0,20,0.01)\n",
    "y = 2*np.sin(1.5*x)+ 1.5*np.cos(2*x)  +np.random.normal(0.5, 0.3,len(x))\n",
    "z = 2*np.sin(1.5*x)+ 1.5*np.cos(2*x)\n",
    "plt.plot(x,y,x,z)"
   ]
  },
  {
   "cell_type": "code",
   "execution_count": null,
   "metadata": {},
   "outputs": [],
   "source": []
  }
 ],
 "metadata": {
  "kernelspec": {
   "display_name": "Python 3",
   "language": "python",
   "name": "python3"
  },
  "language_info": {
   "codemirror_mode": {
    "name": "ipython",
    "version": 3
   },
   "file_extension": ".py",
   "mimetype": "text/x-python",
   "name": "python",
   "nbconvert_exporter": "python",
   "pygments_lexer": "ipython3",
   "version": "3.8.3"
  }
 },
 "nbformat": 4,
 "nbformat_minor": 4
}
